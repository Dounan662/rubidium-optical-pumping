{
 "cells": [
  {
   "cell_type": "markdown",
   "metadata": {},
   "source": [
    "# Optical Pumping"
   ]
  },
  {
   "cell_type": "markdown",
   "metadata": {},
   "source": [
    "Author: Dounan Du\n",
    "\n",
    "Abstract: This is a numerical simulation of an idealized optical pumping process. "
   ]
  },
  {
   "cell_type": "code",
   "execution_count": 2,
   "metadata": {},
   "outputs": [],
   "source": [
    "import matplotlib.pyplot as plt\n",
    "import numpy as np\n",
    "from IPython.display import Image\n",
    "import qutip\n",
    "from qutip import (Qobj, about, basis, coherent, coherent_dm, create, destroy,\n",
    "                   expect, fock, fock_dm, mesolve, qeye, sigmax, sigmay,\n",
    "                   sigmaz, tensor, thermal_dm)\n",
    "\n",
    "%matplotlib inline"
   ]
  },
  {
   "cell_type": "markdown",
   "metadata": {},
   "source": [
    "## Introduction"
   ]
  },
  {
   "cell_type": "markdown",
   "metadata": {},
   "source": [
    "In quantum optical experiments, especially in thoses involve cold atoms, the quality of the optical pumping preparation of the atomic states is key to a clear demonstration of the core physics. This numerical simulation provides some insight on how the pumping quality is dependent on various pumping parameters, such as pumping Rabi frequency, pumping duration."
   ]
  },
  {
   "cell_type": "markdown",
   "metadata": {},
   "source": [
    "## Create Rb87 atomic structure \n",
    "\n",
    "The atomic structure is encoded in two fundamental class: HyperfineLevel and HyperfineTransition class."
   ]
  },
  {
   "cell_type": "code",
   "execution_count": 3,
   "metadata": {},
   "outputs": [],
   "source": [
    "class HyperfineLevel:\n",
    "\n",
    "    \"\"\"\n",
    "    Atomic hyperfine sublevels are represented by this class.\n",
    "\n",
    "    Attributes:\n",
    "        F (int): The hyperfine level quantum number.\n",
    "        mF (int): The Zeeman sublevel quantum number.\n",
    "        FineStruc (int): the number represent the Fine level as follows: 0 - 5S1/2; 1 - 5P1/2; 2 - 5P3/2.\n",
    "        levelIndex(int): the index of python ket vector elements represent this hyperfine sub level.\n",
    "\n",
    "    \"\"\"\n",
    "    def __init__(self, F, mF, FineStruc, levelIndex):\n",
    "        self.F = F\n",
    "        self.mF = mF\n",
    "        self.FineStruc = FineStruc\n",
    "        self.levelIndex = levelIndex\n",
    "\n",
    "class HyperfineTransition:\n",
    "    \"\"\"\n",
    "    Transitions between hyperfine Zeeman levels are represented by this class.\n",
    "\n",
    "    Attributes:\n",
    "        in_: represent initial hyperfine level, same numbering system as HyperfineLevel class.\n",
    "        f_: represent final level.\n",
    "        reducedDipoleM (float): the reduce dipole moment of the form <J||er||J'>. Value from Steck data.\n",
    "        dipoleM (float): dipole moment in units of related reduced dipole moment, value from Steck data.\n",
    "        Pol (int): Polarization of the transition, with -1 - sigma-; 0 - pi; +1 - sigma+\n",
    "    \n",
    "    \"\"\"\n",
    "    def __init__(self,in_FineStruc, in_F,in_mF,f_FineStruc,f_F,f_mF,reducedDipoleM,dipoleM,Pol):\n",
    "        self.in_FineStruc = in_FineStruc\n",
    "        self.in_F = in_F\n",
    "        self.in_mF = in_mF\n",
    "        self.f_FineStruc = f_FineStruc\n",
    "        self.f_F = f_F\n",
    "        self.f_mF = f_mF\n",
    "        self.reducedDipoleM = reducedDipoleM\n",
    "        self.dipoleM = dipoleM\n",
    "        self.Pol = Pol\n"
   ]
  },
  {
   "cell_type": "markdown",
   "metadata": {},
   "source": [
    "## Initialize Hilbert space\n",
    "Specify the fine level and hyperfine levels that are included in the system model, here the matrix represention is under the convention that in python numpy array, smaller index corresponds to lower energy levels. For example, for kets $\\ket{e}$ and $\\ket{g}$, the corresponding vector is np.array([[0],[1]]) and np.array([[1],[0]]).\n",
    "\n",
    "The involved hyperlevels are specified by a np array. For example for the $5S_{1/2}\\ F=1$ hyperfine level the identify column vector is np.array([[0,1]])"
   ]
  },
  {
   "cell_type": "markdown",
   "metadata": {},
   "source": [
    "here the involved levels are: $5S_{1/2}\\ F=1,2$ and $5P_{3/2}\\ F = 2$ (change according to specific system)"
   ]
  },
  {
   "cell_type": "code",
   "execution_count": 21,
   "metadata": {},
   "outputs": [],
   "source": [
    "#specify related hyperfine levels\n",
    "levelInvolved = np.array([[0,1],[0,2],[2,2]])\n",
    "\n",
    "#automatically generate all sub-level objects from the provided involved levels\n",
    "n = (np.sum(levelInvolved,axis=0)[1])*2 + levelInvolved.shape[0] #find total dimension of the Hilbert space\n",
    "l = [None] * n\n",
    "\n",
    "j=0\n",
    "for i in range(levelInvolved.shape[0]):\n",
    "    subLvs = range(2*levelInvolved[i,1]+1)-levelInvolved[i,1]\n",
    "    for hyLevels in subLvs:\n",
    "        l[j] = \n",
    "        j+=1\n"
   ]
  },
  {
   "cell_type": "markdown",
   "metadata": {},
   "source": [
    "Assume initially the atom pupolation is equally distributed over $5S_{1/2}\\ F=2$ hyperfine Zeeman levels. "
   ]
  },
  {
   "cell_type": "code",
   "execution_count": 3,
   "metadata": {},
   "outputs": [],
   "source": [
    "d_Hilbert = 13\n",
    "\n",
    "rho_rf = 0\n",
    "for i in range(3,8):\n",
    "    rho_rf += qutip.fock_dm(d_Hilbert,i)*0.2"
   ]
  },
  {
   "cell_type": "markdown",
   "metadata": {},
   "source": [
    "In rotating frame, the Hamiltonian is \n",
    "$$\n",
    "\\begin{equation}\n",
    "\\tilde{H} = \\tilde{H}_0 + \\tilde{H}_{AF}\n",
    "\\end{equation}\n",
    "$$\n",
    "\n"
   ]
  },
  {
   "cell_type": "markdown",
   "metadata": {},
   "source": []
  }
 ],
 "metadata": {
  "kernelspec": {
   "display_name": "base",
   "language": "python",
   "name": "python3"
  },
  "language_info": {
   "codemirror_mode": {
    "name": "ipython",
    "version": 3
   },
   "file_extension": ".py",
   "mimetype": "text/x-python",
   "name": "python",
   "nbconvert_exporter": "python",
   "pygments_lexer": "ipython3",
   "version": "3.11.5"
  },
  "orig_nbformat": 4
 },
 "nbformat": 4,
 "nbformat_minor": 2
}
