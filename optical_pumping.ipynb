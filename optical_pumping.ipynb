{
 "cells": [
  {
   "cell_type": "markdown",
   "metadata": {},
   "source": [
    "# Optical Pumping"
   ]
  },
  {
   "cell_type": "markdown",
   "metadata": {},
   "source": [
    "Author: Dounan Du\n",
    "\n",
    "Abstract: This is a numerical simulation of an idealized optical pumping process. "
   ]
  },
  {
   "cell_type": "code",
   "execution_count": 26,
   "metadata": {},
   "outputs": [],
   "source": [
    "import matplotlib.pyplot as plt\n",
    "import numpy as np\n",
    "from IPython.display import Image\n",
    "import qutip\n",
    "from qutip import (Qobj, about, basis, coherent, coherent_dm, create, destroy,\n",
    "                   expect, fock, fock_dm, mesolve, qeye, sigmax, sigmay,\n",
    "                   sigmaz, tensor, thermal_dm)\n",
    "import math\n",
    "from scipy import constants\n",
    "\n",
    "%matplotlib inline"
   ]
  },
  {
   "cell_type": "markdown",
   "metadata": {},
   "source": [
    "## Introduction"
   ]
  },
  {
   "cell_type": "markdown",
   "metadata": {},
   "source": [
    "In quantum optical experiments, especially in thoses involve cold atoms, the quality of the optical pumping preparation of the atomic states is key to a clear demonstration of the core physics. This numerical simulation provides some insight on how the pumping quality is dependent on various pumping parameters, such as pumping Rabi frequency, pumping duration."
   ]
  },
  {
   "cell_type": "markdown",
   "metadata": {},
   "source": [
    "## Create Rb87 atomic structure \n",
    "\n",
    "The atomic structure is encoded in two fundamental class: HyperfineLevel and HyperfineTransition class."
   ]
  },
  {
   "cell_type": "code",
   "execution_count": 3,
   "metadata": {},
   "outputs": [],
   "source": [
    "class HyperfineLevel:\n",
    "\n",
    "    \"\"\"\n",
    "    Atomic hyperfine sublevels are represented by this class.\n",
    "\n",
    "    Attributes:\n",
    "        F (int): The hyperfine level quantum number.\n",
    "        mF (int): The Zeeman sublevel quantum number.\n",
    "        FineStruc (int): the number represent the Fine level as follows: 0 - 5S1/2; 1 - 5P1/2; 2 - 5P3/2.\n",
    "        levelIndex(int): the index of python ket vector elements represent this hyperfine sub level.\n",
    "        n(int): the total dimension of the system Hilbert space.\n",
    "\n",
    "    \"\"\"\n",
    "    def __init__(self, F, mF, FineStruc, levelIndex, n):\n",
    "        self.F = F\n",
    "        self.mF = mF\n",
    "        self.FineStruc = FineStruc\n",
    "        self.levelIndex = levelIndex\n",
    "        self.rho = qutip.fock_dm(n,levelIndex)\n",
    "\n",
    "class HyperfineTransition:\n",
    "    \"\"\"\n",
    "    Transitions between hyperfine Zeeman levels are represented by this class.\n",
    "\n",
    "    Attributes:\n",
    "        in_: represent initial hyperfine level, same numbering system as HyperfineLevel class.\n",
    "        f_: represent final level.\n",
    "        reducedDipoleM (float): the reduce dipole moment of the form <J||er||J'>. Value from Steck data.\n",
    "        dipoleM (float): dipole moment in units of related reduced dipole moment, value from Steck data.\n",
    "        Pol (int): Polarization of the transition, with -1 - sigma-; 0 - pi; +1 - sigma+\n",
    "    \n",
    "    \"\"\"\n",
    "    def __init__(self,in_FineStruc, in_F,in_mF,f_FineStruc,f_F,f_mF,reducedDipoleM,dipoleM,Pol):\n",
    "        self.in_FineStruc = in_FineStruc\n",
    "        self.in_F = in_F\n",
    "        self.in_mF = in_mF\n",
    "        self.f_FineStruc = f_FineStruc\n",
    "        self.f_F = f_F\n",
    "        self.f_mF = f_mF\n",
    "        self.reducedDipoleM = reducedDipoleM\n",
    "        self.dipoleM = dipoleM\n",
    "        self.Pol = Pol\n"
   ]
  },
  {
   "cell_type": "markdown",
   "metadata": {},
   "source": [
    "Now create a database to store the Steck Rb87 data as HyperfineTransition objects."
   ]
  },
  {
   "cell_type": "code",
   "execution_count": 4,
   "metadata": {},
   "outputs": [],
   "source": [
    "# this cell is a data base. Each enrty represent a hyperfine to hyperfine transition. Add relevent entry to the specific system.\n",
    "\n",
    "rD02 = 3.584e-29 #87Rb reduced dipole matrix element <J=1/2||er||J'=3/2>\n",
    "\n",
    "database = []\n",
    "\n",
    "# 87Rb D2 5S1/2 -> 5P3/2, sigma+ transition, F = 1 -> F' =2\n",
    "entry1 = [[-1,math.sqrt(1/24)],[0,math.sqrt(1/8)],[1,math.sqrt(1/4)]]\n",
    "for i in entry1:\n",
    "    database.append(HyperfineTransition(0,1,i[0],2,2,i[0]+1,rD02,i[1],1))\n",
    "\n",
    "# 87Rb D2 5S1/2 -> 5P3/2, pi transition, F = 1 -> F' =2\n",
    "entry2 = [[-1,-math.sqrt(1/8)],[0,-math.sqrt(1/6)],[1,-math.sqrt(1/8)]]\n",
    "for i in entry2:\n",
    "    database.append(HyperfineTransition(0,1,i[0],2,2,i[0],rD02,i[1],0))\n",
    "\n",
    "# 87Rb D2 5S1/2 -> 5P3/2, sigma- transition, F = 1 -> F' =2\n",
    "entry3 = [[-1,math.sqrt(1/4)],[0,math.sqrt(1/8)],[1,math.sqrt(1/24)]]\n",
    "for i in entry3:\n",
    "    database.append(HyperfineTransition(0,1,i[0],2,2,i[0]-1,rD02,i[1],-1))\n",
    "\n",
    "# 87Rb D2 5S1/2 -> 5P3/2, sigma+ transition, F = 2 -> F' =2\n",
    "entry4 = [[-2,math.sqrt(1/12)],[-1,math.sqrt(1/8)],[0,math.sqrt(1/8)],[1,math.sqrt(1/12)]]\n",
    "for i in entry4:\n",
    "    database.append(HyperfineTransition(0,2,i[0],2,2,i[0]+1,rD02,i[1],1))\n",
    "\n",
    "# 87Rb D2 5S1/2 -> 5P3/2, pi transition, F = 2 -> F' =2\n",
    "entry5 = [[-2,-math.sqrt(1/6)],[-1,-math.sqrt(1/24)],[0,0],[1,math.sqrt(1/24)],[2,math.sqrt(1/6)]]\n",
    "for i in entry5:\n",
    "    database.append(HyperfineTransition(0,2,i[0],2,2,i[0],rD02,i[1],0))\n",
    "\n",
    "# 87Rb D2 5S1/2 -> 5P3/2, sigma- transition, F = 2 -> F' =2\n",
    "entry6 = [[-1,-math.sqrt(1/12)],[0,-math.sqrt(1/8)],[1,-math.sqrt(1/8)],[2,-math.sqrt(1/12)]]\n",
    "for i in entry6:\n",
    "    database.append(HyperfineTransition(0,2,i[0],2,2,i[0]-1,rD02,i[1],-1))\n",
    "    "
   ]
  },
  {
   "cell_type": "markdown",
   "metadata": {},
   "source": [
    "Specify the fine level and hyperfine levels that are included in the system model, here the matrix represention is under the convention that in python numpy array, smaller index corresponds to lower energy levels. For example, for kets $\\ket{e}$ and $\\ket{g}$, the corresponding vector is np.array([[0],[1]]) and np.array([[1],[0]]).\n",
    "\n",
    "The involved hyperlevels are specified by a np array. For example for the $5S_{1/2}\\ F=1$ hyperfine level the identify column vector is np.array([[0,1]])\n",
    "\n",
    "here input the involved levels. For example: $5S_{1/2}\\ F=1,2$ and $5P_{3/2}\\ F = 2$ (__change according to specific system__)"
   ]
  },
  {
   "cell_type": "code",
   "execution_count": 5,
   "metadata": {},
   "outputs": [],
   "source": [
    "#specify related hyperfine levels, order them as increacing energy\n",
    "levelInvolved = np.array([[0,1],[0,2],[2,2]])"
   ]
  },
  {
   "cell_type": "markdown",
   "metadata": {},
   "source": [
    "Define a function to automatically generate all sub-level objects from the provided involved levels, and generate a index list that encodes the structure information."
   ]
  },
  {
   "cell_type": "code",
   "execution_count": 6,
   "metadata": {},
   "outputs": [],
   "source": [
    "def Gen_levelStruct(levelInvolved):\n",
    "\n",
    "    \"\"\"\n",
    "    automatically generate all sub-level objects from the provided involved levels\n",
    "    \n",
    "    \"\"\"\n",
    "\n",
    "    n = (np.sum(levelInvolved,axis=0)[1])*2 + levelInvolved.shape[0] #find total dimension of the Hilbert space\n",
    "    l = [None] * n #initialize the list that hold all sub hperfine level objects.\n",
    "\n",
    "    j=0 #this for loop structure generate a list of all the involved level objects, and they are ordered as increacing of energy\n",
    "    for i in range(levelInvolved.shape[0]): \n",
    "        subLvs = range(2*levelInvolved[i,1]+1)-levelInvolved[i,1]\n",
    "        for hyLevels in subLvs:\n",
    "            l[j] = HyperfineLevel(levelInvolved[i,1],hyLevels,levelInvolved[i,0],j,n)\n",
    "            j+=1\n",
    "\n",
    "    # creating a list of the atomic level index that encodes the level structure \n",
    "    lIndex = [None] * n\n",
    "    for i in range(n):\n",
    "        lIndex[i] = i\n",
    "\n",
    "    segment_length = []\n",
    "    for i in levelInvolved:\n",
    "        segment_length.append(i[1] * 2 + 1)\n",
    "\n",
    "    start = 0\n",
    "    lStructure_list = []\n",
    "\n",
    "    for length in segment_length:\n",
    "        end = start + length\n",
    "        lStructure_list.append(lIndex[start:end])\n",
    "        start = end\n",
    "\n",
    "    return l,lStructure_list\n",
    "\n",
    "l,lStructure_list = Gen_levelStruct(levelInvolved)"
   ]
  },
  {
   "cell_type": "markdown",
   "metadata": {},
   "source": [
    "## Generate initial density operator"
   ]
  },
  {
   "cell_type": "markdown",
   "metadata": {},
   "source": [
    "Assume initially the atom pupolation is equally distributed over $5S_{1/2}\\ F=2$ hyperfine Zeeman levels. The initial state can be modified according to the model. (__change according to specific system__)"
   ]
  },
  {
   "cell_type": "code",
   "execution_count": 29,
   "metadata": {},
   "outputs": [],
   "source": [
    "# generate the initial atomic density operator in rotating frame.\n",
    "inRhoL = 1 # here input the initial rho hyperfine level(inRhoL), using indexing refer to levelInvolved\n",
    "\n",
    "def rhoRE_initialize(inRhoL, l, lStructure_list):\n",
    "    rhoRF_i = 0\n",
    "    weight = 1/len(lStructure_list[inRhoL])\n",
    "    for i in lStructure_list[inRhoL]:\n",
    "        rhoRF_i += l[i].rho * weight\n",
    "    return rhoRF_i\n",
    "\n",
    "rhoRF_i = rhoRE_initialize(inRhoL,l,lStructure_list)"
   ]
  },
  {
   "cell_type": "markdown",
   "metadata": {},
   "source": [
    "## Generate rotating frame Hamiltonian\n",
    "$$\n",
    "\\begin{equation}\n",
    "\\tilde{H} = \\tilde{H}_0 + \\tilde{H}_{AF}\n",
    "\\end{equation}\n",
    "$$\n"
   ]
  },
  {
   "cell_type": "markdown",
   "metadata": {},
   "source": [
    "### Define pumping beams"
   ]
  },
  {
   "cell_type": "markdown",
   "metadata": {},
   "source": [
    "The PumpBeam class generate pump beam object that encode various attributes of the pump beam. Here assume the Gaussian beam waist is at the atomic ensemble location so that a plane wave will be a good approximation to model the beam. The size of the beam can be approximated by the beam waist diameter. In vaccum, the field of the beam will be calculated from \n",
    "$$\n",
    "\\begin{equation}\n",
    "\\begin{aligned}\n",
    "\\mathbf{S} &= \\frac{1}{2}\\sqrt{\\frac{\\epsilon_0}{\\mu_0}}|E_0|^2\\\\\n",
    "&=\\frac{1}{2}c\\epsilon_0|E_0|^2\\\\\n",
    "\\end{aligned}\n",
    "\\end{equation}\n",
    "$$\n",
    "where $E_0$ is the physical strength of the field."
   ]
  },
  {
   "cell_type": "code",
   "execution_count": 34,
   "metadata": {},
   "outputs": [],
   "source": [
    "class PumpBeam:\n",
    "    def __init__(self,lowL, highL, detune, beamDia, power, pol) -> None:\n",
    "        \n",
    "        \"\"\"\n",
    "        This class define the pump beam objects.\n",
    "\n",
    "        Attributes:\n",
    "            lowL(list): this is the lower hyperfine level that the laser field connects. It is specified similar as levelInvolved, [fine_level_index, hyperfine].\n",
    "            highL(list): the higher hyperfine level that the laser field connectes, defined in the same way as the lowL.\n",
    "            detune(float): detune from the corresponding atomic transition frequency. Convention: omega_laser - omega_atomic. Unit: Hz.\n",
    "            beamDia(float): beam diameter at the atom ensemble. Unit: mm \n",
    "            power(float): beam power at the atom ensemble. Unit: mW\n",
    "            pol(int): beam field polarization at the atom ensemble. 1-sigma+; 0-pi; -1-sigma-\n",
    "        \"\"\"\n",
    "        \n",
    "        self.lowL = lowL\n",
    "        self.highL = highL\n",
    "        self.detune = detune\n",
    "        self.beamDia = beamDia\n",
    "        self.power = power\n",
    "        self.pol = pol\n",
    "        self.field = self.fieldStrengh(power,beamDia)\n",
    "    \n",
    "    def fieldStrengh(self,power,beamDia):\n",
    "        beamArea = np.pi * ((beamDia * 1e-3 / 2)**2)\n",
    "        beamIntensity = power * 1e-3 / beamArea\n",
    "        field = math.sqrt(2 * beamIntensity /(constants.c * constants.epsilon_0))\n",
    "        return field\n"
   ]
  },
  {
   "cell_type": "markdown",
   "metadata": {},
   "source": [
    "Specify pump beam in the experiment setup. (__change according to specific system__)"
   ]
  },
  {
   "cell_type": "code",
   "execution_count": 40,
   "metadata": {},
   "outputs": [],
   "source": [
    "beamInvolved = [PumpBeam([0,1],[2,2],0,1,1,1), PumpBeam([0,2],[2,2],0,1,1,1)]"
   ]
  },
  {
   "cell_type": "markdown",
   "metadata": {},
   "source": [
    "### Free atom Hamiltonian in rotating frame"
   ]
  },
  {
   "cell_type": "markdown",
   "metadata": {},
   "source": []
  },
  {
   "cell_type": "markdown",
   "metadata": {},
   "source": []
  }
 ],
 "metadata": {
  "kernelspec": {
   "display_name": "base",
   "language": "python",
   "name": "python3"
  },
  "language_info": {
   "codemirror_mode": {
    "name": "ipython",
    "version": 3
   },
   "file_extension": ".py",
   "mimetype": "text/x-python",
   "name": "python",
   "nbconvert_exporter": "python",
   "pygments_lexer": "ipython3",
   "version": "3.8.8"
  },
  "orig_nbformat": 4
 },
 "nbformat": 4,
 "nbformat_minor": 2
}
